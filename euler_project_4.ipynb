{
 "cells": [
  {
   "cell_type": "code",
   "execution_count": 47,
   "metadata": {
    "collapsed": false
   },
   "outputs": [
    {
     "name": "stdout",
     "output_type": "stream",
     "text": [
      "127035954683\n"
     ]
    }
   ],
   "source": [
    "\"\"\" Problem 62\n",
    "\"\"\"\n",
    "\n",
    "import itertools\n",
    "import math\n",
    "\n",
    "def count_cubes(n):\n",
    "    \n",
    "    digits = ''.join(sorted(str(n)))\n",
    "    \n",
    "    counter = 0\n",
    "    lowest = int(round(float(digits) ** (1/3.0)))\n",
    "    highest = int(round(float(digits[::-1]) ** (1/3.0)))\n",
    "    \n",
    "    for i in xrange(lowest, highest + 1):\n",
    "        if ''.join(sorted(str(i ** 3))) == digits:\n",
    "            counter += 1\n",
    "    \n",
    "    return counter\n",
    "\n",
    "index = 1\n",
    "\n",
    "solution_found = False\n",
    "\n",
    "while not solution_found:\n",
    "    if count_cubes(index ** 3) == 5:\n",
    "        solution_found = True\n",
    "    else:\n",
    "        index += 1\n",
    "\n",
    "print index ** 3\n"
   ]
  },
  {
   "cell_type": "code",
   "execution_count": 56,
   "metadata": {
    "collapsed": false
   },
   "outputs": [
    {
     "name": "stdout",
     "output_type": "stream",
     "text": [
      "49\n"
     ]
    }
   ],
   "source": [
    "\"\"\" Problem 63\n",
    "\"\"\"\n",
    "\n",
    "counter = 0\n",
    "range = 10\n",
    "i = 1\n",
    "\n",
    "while range >= 1:\n",
    "    lowest = int(round(10 ** ((i - 1) / float(i))))\n",
    "    highest = int(round(10 ** (i / float(i))))\n",
    "    for j in xrange(lowest, highest):\n",
    "        if len(str(j ** i)) == i:\n",
    "            counter += 1\n",
    "    i += 1\n",
    "    range = highest - lowest\n",
    "    \n",
    "print counter\n"
   ]
  },
  {
   "cell_type": "code",
   "execution_count": 70,
   "metadata": {
    "collapsed": false
   },
   "outputs": [
    {
     "name": "stdout",
     "output_type": "stream",
     "text": [
      "False True True False\n"
     ]
    }
   ],
   "source": [
    "\"\"\" Problem 61\n",
    "\"\"\"\n",
    "\n",
    "import math\n",
    "\n",
    "types = {'Triangle': 0, 'Square': 0, 'Pentagonal': 0, 'Hexagonal': 0, 'Heptagonal': 0, 'Octagonal': 0}\n",
    "    \n",
    "def is_triangle(n):\n",
    "    root = round((math.sqrt(1 + 8 * n) - 1) / 2.0, 3)\n",
    "    return root * (root + 1) / 2 == n\n",
    "    \n",
    "def is_square(n):\n",
    "    root = round(math.sqrt(n), 3)\n",
    "    return root ** 2 == n\n",
    "\n",
    "def is_pentagonal(n):\n",
    "    root = round((1 + math.sqrt(1 + 24 * n)) / 6.0, 3)\n",
    "    return root * (3 * root - 1) / 2 == n\n",
    "\n",
    "def is_hexagonal(n):\n",
    "    root = round((1 + math.sqrt(1 + 8 * n)) / 4.0, 3)\n",
    "    return root * (2 * root - 1) == n\n",
    "    \n",
    "def is_heptagonal(n):\n",
    "    root = round((3 + math.sqrt(9 + 40 * n)) / 10.0, 3)\n",
    "    return root * (5 * root - 3) / 2 == n\n",
    "    \n",
    "def is_octagonal(n):\n",
    "    root = round((1 + math.sqrt(1 + 3 * n)) / 3.0, 3)\n",
    "    return root * (3 * root - 2)  == n\n",
    "\n",
    "#for i1 in xrange(10, 99):\n",
    "#    for i2 in xrange(10, 99):\n",
    "#        num1 = i1 * 100 + i2\n",
    "        "
   ]
  },
  {
   "cell_type": "code",
   "execution_count": 78,
   "metadata": {
    "collapsed": false
   },
   "outputs": [
    {
     "name": "stdout",
     "output_type": "stream",
     "text": [
      "21124\n"
     ]
    }
   ],
   "source": [
    "\"\"\" Problem 17\n",
    "\"\"\"\n",
    "\n",
    "import math\n",
    "\n",
    "int_names = {1: 'one', \n",
    "             2: 'two',\n",
    "             3: 'three',\n",
    "             4: 'four',\n",
    "             5: 'five',\n",
    "             6: 'six',\n",
    "             7: 'seven',\n",
    "             8: 'eight',\n",
    "             9: 'nine',\n",
    "             10: 'ten',\n",
    "             11: 'eleven',\n",
    "             12: 'twelve',\n",
    "             13: 'thirteen',\n",
    "             14: 'fourteen',\n",
    "             15: 'fifteen',\n",
    "             16: 'sixteen',\n",
    "             17: 'seventeen',\n",
    "             18: 'eighteen',\n",
    "             19: 'nineteen',\n",
    "             20: 'twenty',\n",
    "             30: 'thirty',\n",
    "             40: 'forty',\n",
    "             50: 'fifty',\n",
    "             60: 'sixty',\n",
    "             70: 'seventy',\n",
    "             80: 'eighty',\n",
    "             90: 'ninety'}\n",
    "\n",
    "def int_to_string(n):\n",
    "    name = ''\n",
    "    if n == 1000:\n",
    "        return 'onethousand'\n",
    "    if math.floor(n / 100) > 0:\n",
    "        name += int_names[math.floor(n / 100)]\n",
    "        name += 'hundred'\n",
    "    if n % 100 == 0:\n",
    "        return name\n",
    "    else:\n",
    "        if math.floor(n / 100.0) > 0:\n",
    "            name += 'and'\n",
    "        if n % 100 <= 20:\n",
    "            name += int_names[n % 100]\n",
    "        else:\n",
    "            name += int_names[10 * (math.floor((n % 100) / 10.0))]\n",
    "            if (n % 10) > 0:\n",
    "                name += int_names[n % 10]\n",
    "    return name\n",
    "    \n",
    "total = 0\n",
    "    \n",
    "for i in xrange(1, 1001):\n",
    "    total += len(int_to_string(i))\n",
    "\n",
    "print total\n"
   ]
  },
  {
   "cell_type": "code",
   "execution_count": 83,
   "metadata": {
    "collapsed": false
   },
   "outputs": [
    {
     "name": "stdout",
     "output_type": "stream",
     "text": [
      "(2, 7, 8, 3, 9, 1, 5, 4, 6, 0)\n"
     ]
    }
   ],
   "source": [
    "\"\"\" Problem 24\n",
    "\"\"\"\n",
    "\n",
    "# позор и переделать\n",
    "\n",
    "import itertools\n",
    "\n",
    "permutations = []\n",
    "counter = 0\n",
    "\n",
    "for i in itertools.permutations(xrange(10)):\n",
    "    counter += 1\n",
    "    if counter == 1000000:\n",
    "        print i\n",
    "        break\n"
   ]
  },
  {
   "cell_type": "code",
   "execution_count": 6,
   "metadata": {
    "collapsed": false
   },
   "outputs": [
    {
     "name": "stdout",
     "output_type": "stream",
     "text": [
      "171\n"
     ]
    }
   ],
   "source": [
    "\"\"\" Problem 19\n",
    "\"\"\"\n",
    "\n",
    "day = 1\n",
    "month = 0\n",
    "year = 1900\n",
    "counter = 0\n",
    "\n",
    "def is_leap(n):\n",
    "    if n % 400 == 0:\n",
    "        return True\n",
    "    elif n % 100 == 0:\n",
    "        return False\n",
    "    elif n % 4 == 0:\n",
    "        return True\n",
    "    else:\n",
    "        return False\n",
    "\n",
    "months_days = [31, 28, 31, 30, 31, 30, 31, 31, 30, 31, 30, 31]\n",
    "\n",
    "first_sunday = 0\n",
    "\n",
    "while year < 2001:\n",
    "    counter += 1\n",
    "    \n",
    "    if day == 1 and counter % 7 == 0 and year > 1900:\n",
    "        first_sunday += 1\n",
    "    \n",
    "    if month == 11 and day == 31:\n",
    "        year += 1\n",
    "        month = 0\n",
    "        day = 1\n",
    "    elif month == 1 and is_leap(year) and day == 28:\n",
    "        day += 1\n",
    "        continue\n",
    "    elif day >= months_days[month]:\n",
    "        month += 1\n",
    "        day = 1\n",
    "    else:\n",
    "        day += 1\n",
    "\n",
    "print first_sunday\n"
   ]
  },
  {
   "cell_type": "code",
   "execution_count": 65,
   "metadata": {
    "collapsed": false
   },
   "outputs": [
    {
     "name": "stdout",
     "output_type": "stream",
     "text": [
      "997651\n"
     ]
    }
   ],
   "source": [
    "\"\"\" Problem 50\n",
    "\"\"\"\n",
    "\n",
    "LIMIT = 1000000\n",
    "\n",
    "def is_prime(n):\n",
    "    if n == 1:\n",
    "        return False\n",
    "    if n <= 3:\n",
    "        return True\n",
    "    if n % 2 == 0 or n % 3 == 0:\n",
    "        return False\n",
    "    for x in xrange(5, int(n ** 0.5) + 1, 6):\n",
    "        if n % x == 0 or n % (x + 2) == 0:\n",
    "            return False\n",
    "    return True\n",
    "\n",
    "primes = [2] + [n for n in xrange(3, LIMIT + 1, 2) if is_prime(n)] \n",
    "\n",
    "max_conseq_sum = 0\n",
    "max_diff = 0\n",
    "\n",
    "primes_set = set(primes)\n",
    "\n",
    "for i in xrange(len(primes) - 1):\n",
    "    conseq_sum = sum(primes[i:i + max_diff + 1])\n",
    "    for j in xrange(i + max_diff + 1, len(primes)):\n",
    "        conseq_sum += primes[j]\n",
    "        if conseq_sum in primes_set and (j - i) > max_diff:\n",
    "            max_conseq_sum = conseq_sum\n",
    "            max_diff = j - i\n",
    "        if conseq_sum >= LIMIT:\n",
    "            break\n",
    "\n",
    "print max_conseq_sum\n"
   ]
  },
  {
   "cell_type": "code",
   "execution_count": null,
   "metadata": {
    "collapsed": false
   },
   "outputs": [],
   "source": [
    "\"\"\" Problem 32\n",
    "\"\"\"\n",
    "\n",
    "import math\n",
    "\n",
    "LIMIT = int(math.ceil(math.sqrt(9876543)))\n",
    "pandigital_products = set()\n",
    "\n",
    "for i in xrange(1, LIMIT):\n",
    "    for j in xrange(1, LIMIT):\n",
    "        line = ''.join(sorted(str(i) + str(j) + str(i * j)))\n",
    "        if line == '123456789':\n",
    "            pandigital_products.add(i * j)\n",
    "\n",
    "print sum(pandigital_products)\n"
   ]
  },
  {
   "cell_type": "code",
   "execution_count": 122,
   "metadata": {
    "collapsed": false
   },
   "outputs": [
    {
     "name": "stdout",
     "output_type": "stream",
     "text": [
      "2 1 2.0\n",
      "3 2 1.5\n",
      "4 2 2.0\n",
      "5 4 1.25\n",
      "6 3 2.0\n",
      "7 6 1.16666666667\n",
      "8 4 2.0\n",
      "9 6 1.5\n",
      "10 5 2.0\n"
     ]
    }
   ],
   "source": [
    "\"\"\" Problem 69, 70\n",
    "\"\"\"\n",
    "\n",
    "all_divisors = {}\n",
    "\n",
    "def add_prime_divisor(n, divisors):\n",
    "    if n < 2:\n",
    "        return\n",
    "    if n in all_divisors:\n",
    "        divisors = divisors | all_divisors[n]\n",
    "        return\n",
    "    for i in xrange(2, n + 1):\n",
    "        if n % i == 0:\n",
    "            divisors.add(i)\n",
    "            add_prime_divisor(n / i, divisors)\n",
    "            break\n",
    "\n",
    "def get_prime_divisors(n):\n",
    "    divisors = set()\n",
    "    if n not in all_divisors:\n",
    "        add_prime_divisor(n, divisors)\n",
    "        all_divisors[n] = divisors\n",
    "    return all_divisors[n]\n",
    "\n",
    "def get_totient(n):\n",
    "    result = n\n",
    "    for i in get_prime_divisors(n):\n",
    "        result *= (1.0 - 1.0 / i)\n",
    "    return int(result)\n",
    "\n",
    "for i in xrange(2, 11):\n",
    "    print i, get_totient(i), float(i) / get_totient(i)\n"
   ]
  },
  {
   "cell_type": "code",
   "execution_count": 123,
   "metadata": {
    "collapsed": false
   },
   "outputs": [],
   "source": [
    "\"\"\" Problem 70\n",
    "\"\"\"\n",
    "\n",
    "def get_totient(n):\n",
    "    result = n\n",
    "    for i in get_prime_divisors(n):\n",
    "        result *= (1.0 - 1.0 / i)\n",
    "    return int(result)\n",
    "\n",
    "#for n in xrange(1, 10 ** 7):\n",
    "#    if ''.join(sorted(str(n))) == ''.join(sorted(str(get_totient(n)))):\n",
    "#        print n\n"
   ]
  },
  {
   "cell_type": "code",
   "execution_count": 12,
   "metadata": {
    "collapsed": false
   },
   "outputs": [
    {
     "name": "stdout",
     "output_type": "stream",
     "text": [
      "983\n"
     ]
    }
   ],
   "source": [
    "\"\"\" Problem 26\n",
    "\"\"\"\n",
    "\n",
    "max_cycle_length = 0\n",
    "max_divisor = 0\n",
    "\n",
    "for i in range(2, 1000):\n",
    "    digits = []\n",
    "    remainder = 10 % i\n",
    "    while remainder not in digits:\n",
    "        digits.append(remainder)\n",
    "        remainder *= 10\n",
    "        remainder = remainder % i\n",
    "    if 0 in digits:\n",
    "        continue\n",
    "    if len(digits) - digits.index(remainder) > max_cycle_length:\n",
    "        max_cycle_length = len(digits) - digits.index(remainder)\n",
    "        max_divisor = i\n",
    "\n",
    "print(max_divisor)\n"
   ]
  },
  {
   "cell_type": "code",
   "execution_count": 25,
   "metadata": {
    "collapsed": false
   },
   "outputs": [
    {
     "name": "stdout",
     "output_type": "stream",
     "text": [
      "73682\n"
     ]
    }
   ],
   "source": [
    "\"\"\" Problem 31\n",
    "\"\"\"\n",
    "\n",
    "import math\n",
    "\n",
    "coin_sums = 0\n",
    "total = 200\n",
    "\n",
    "for index1 in range(3):\n",
    "    sum_coins = index1 * 200\n",
    "    for index2 in range(int((total - sum_coins) / 100) + 1):\n",
    "        sum_coins = index1 * 200 + index2 * 100\n",
    "        for index3 in range(int((total - sum_coins) / 50) + 1):\n",
    "            sum_coins = index1 * 200 + index2 * 100 + index3 * 50\n",
    "            for index4 in range(int(math.floor((total - sum_coins) / 20)) + 1):\n",
    "                sum_coins = index1 * 200 + index2 * 100 + index3 * 50 + index4 * 20\n",
    "                for index5 in range(int((total - sum_coins) / 10) + 1):\n",
    "                    sum_coins = index1 * 200 + index2 * 100 + index3 * 50 + index4 * 20 + index5 * 10\n",
    "                    for index6 in range(int((total - sum_coins) / 5) + 1):\n",
    "                        sum_coins = index1 * 200 + index2 * 100 + index3 * 50 + index4 * 20 + index5 * 10 + index6 * 5\n",
    "                        for index7 in range(int(math.floor((total - sum_coins) / 2)) + 1):\n",
    "                            coin_sums += 1\n",
    "\n",
    "print(coin_sums)\n"
   ]
  },
  {
   "cell_type": "code",
   "execution_count": 79,
   "metadata": {
    "collapsed": false
   },
   "outputs": [
    {
     "name": "stdout",
     "output_type": "stream",
     "text": [
      "5482660\n"
     ]
    }
   ],
   "source": [
    "\"\"\" Problem 44\n",
    "\"\"\"\n",
    "\n",
    "import math\n",
    "\n",
    "def get_pentagonal(n):\n",
    "    return int(n * (3 * n - 1) / 2)\n",
    "\n",
    "def is_pentagonal(n):\n",
    "    root = int(round((1 + math.sqrt(1 + 24 * n)) / 6, 3))\n",
    "    return n == get_pentagonal(root)\n",
    "\n",
    "def root_pentagonal(n):\n",
    "    return int(round((1 + math.sqrt(1 + 24 * n)) / 6, 3))\n",
    "\n",
    "def get_k(diff, m):\n",
    "    return (1 - 6 * m + math.sqrt(24 * diff + (6 * m - 1) ** 2)) / 6\n",
    "\n",
    "diff = 4\n",
    "got_answer = False\n",
    "\n",
    "pentagonals = []\n",
    "\n",
    "for i in range(1, 5001):\n",
    "    pentagonals.append(get_pentagonal(i))\n",
    "    \n",
    "set_pentagonals = set(pentagonals)\n",
    "\n",
    "for i in range(len(pentagonals)):\n",
    "    diff = pentagonals[i]\n",
    "    for p in set_pentagonals:\n",
    "        if (p + diff) in set_pentagonals:\n",
    "            if (2 * p + diff) in set_pentagonals:\n",
    "                print(diff)\n",
    "\n",
    "#while not got_answer:\n",
    "#    limit = int(math.floor((diff + 10001) / 3))\n",
    "#    for m in range(1, limit + 1):\n",
    "#        min_k = max(1, math.floor(get_k(diff, m)))\n",
    "#        max_k = math.ceil(get_k(diff + 10000, m))\n",
    "#        for k in range(min_k, max_k + 1):                    \n",
    "#            if is_pentagonal(get_pentagonal(m) + get_pentagonal(m + k)) and is_pentagonal(get_pentagonal(m + k) - get_pentagonal(m)):\n",
    "#                print(m, k)\n",
    "#                got_answer = True\n",
    "#    diff += 10000\n",
    "\n"
   ]
  },
  {
   "cell_type": "code",
   "execution_count": 94,
   "metadata": {
    "collapsed": false
   },
   "outputs": [
    {
     "name": "stdout",
     "output_type": "stream",
     "text": [
      "['129', '160', '162', '168', '180', '289', '290', '316', '318', '319', '362', '368', '380', '389', '620', '629', '680', '689', '690', '710', '716', '718', '719', '720', '728', '729', '731', '736', '760', '762', '769', '790', '890']\n"
     ]
    }
   ],
   "source": [
    "\"\"\" Problem 79\n",
    "\"\"\"\n",
    "\n",
    "import urllib.request as urllib2\n",
    "from collections import OrderedDict\n",
    "\n",
    "data = urllib2.urlopen('https://projecteuler.net/project/resources/p079_keylog.txt')\n",
    "data = data.read()\n",
    "codes = [str(int(line)) for line in data.split()]\n",
    "codes.sort()\n",
    "codes = list(OrderedDict.fromkeys(codes))\n",
    "\n",
    "print(codes)\n"
   ]
  },
  {
   "cell_type": "code",
   "execution_count": 132,
   "metadata": {
    "collapsed": false
   },
   "outputs": [
    {
     "name": "stdout",
     "output_type": "stream",
     "text": [
      "709\n"
     ]
    }
   ],
   "source": [
    "\"\"\" Problem 99\n",
    "\"\"\"\n",
    "\n",
    "import math\n",
    "import urllib.request as urllib2\n",
    "\n",
    "data = urllib2.urlopen('https://projecteuler.net/project/resources/p099_base_exp.txt')\n",
    "\n",
    "data = data.read()\n",
    "pairs = [line.decode().split(',') for line in data.split()]\n",
    "numbers = [int(pair[1]) * math.log(int(pair[0])) for pair in pairs]\n",
    "\n",
    "print(numbers.index(max(numbers)) + 1)\n"
   ]
  },
  {
   "cell_type": "code",
   "execution_count": 136,
   "metadata": {
    "collapsed": false
   },
   "outputs": [
    {
     "name": "stdout",
     "output_type": "stream",
     "text": [
      "428570/999997\n"
     ]
    }
   ],
   "source": [
    "\"\"\" Problem 71\n",
    "\"\"\"\n",
    "\n",
    "from fractions import Fraction\n",
    "import math\n",
    "\n",
    "min_diff = Fraction(1, 1)\n",
    "min_frac = Fraction(1, 1)\n",
    "pattern = Fraction(3, 7)\n",
    "\n",
    "for i in range(8, 1000001):\n",
    "    j = math.floor(3 * i / 7)\n",
    "    frac = Fraction(j, i)\n",
    "    if frac == pattern:\n",
    "        continue\n",
    "    if pattern - frac < min_diff:\n",
    "        min_diff = pattern - frac\n",
    "        min_frac = frac\n",
    "        \n",
    "print(min_frac)\n"
   ]
  },
  {
   "cell_type": "code",
   "execution_count": 138,
   "metadata": {
    "collapsed": false
   },
   "outputs": [
    {
     "name": "stdout",
     "output_type": "stream",
     "text": [
      "8739992577\n"
     ]
    }
   ],
   "source": [
    "\"\"\" Problem 97\n",
    "\"\"\"\n",
    "\n",
    "number = 2\n",
    "\n",
    "for i in range(2, 7830458):\n",
    "    number *= 2\n",
    "    number = number % 10 ** 10\n",
    "    i += 1\n",
    "\n",
    "number *= 28433\n",
    "number += 1\n",
    "\n",
    "number = number % 10 ** 10\n",
    "\n",
    "print(number)\n"
   ]
  },
  {
   "cell_type": "code",
   "execution_count": 154,
   "metadata": {
    "collapsed": false
   },
   "outputs": [
    {
     "name": "stdout",
     "output_type": "stream",
     "text": [
      "8581146\n"
     ]
    }
   ],
   "source": [
    "\"\"\" Problem 92\n",
    "\"\"\"\n",
    "\n",
    "def get_new_number(n):\n",
    "    result = 0\n",
    "    for i in str(n):\n",
    "        result += int(i) ** 2\n",
    "    return result\n",
    "\n",
    "arriving89 = set()\n",
    "arriving89.add(89)\n",
    "arriving1 = set()\n",
    "arriving1.add(1)\n",
    "below_threshold = set()\n",
    "below_threshold.update(range(2, 10 ** 7))\n",
    "\n",
    "for i in range(2, 10 ** 7 + 1):\n",
    "    visited = set()\n",
    "    visited.add(i)\n",
    "    num = i\n",
    "    while num not in arriving1 and num not in arriving89:\n",
    "        visited.add(num)\n",
    "        num = get_new_number(num)\n",
    "    if num in arriving1:\n",
    "        arriving1 |= visited\n",
    "    elif num in arriving89:\n",
    "        arriving89 |= visited\n",
    "        \n",
    "print(len(arriving89 & below_threshold))\n"
   ]
  },
  {
   "cell_type": "code",
   "execution_count": 165,
   "metadata": {
    "collapsed": false
   },
   "outputs": [
    {
     "name": "stdout",
     "output_type": "stream",
     "text": [
      "1587000\n"
     ]
    }
   ],
   "source": [
    "\"\"\" Problem 112\n",
    "\"\"\"\n",
    "\n",
    "def is_bouncy(n):\n",
    "    decreasing = True\n",
    "    increasing = True\n",
    "    line = str(n)\n",
    "    for i in range(len(line) - 1):\n",
    "        if int(line[i + 1]) < int(line[i]):\n",
    "            increasing = False\n",
    "        if int(line[i + 1]) > int(line[i]):\n",
    "            decreasing = False\n",
    "    return not increasing and not decreasing\n",
    "\n",
    "counter = 1\n",
    "bouncy_count = 0\n",
    "\n",
    "while bouncy_count / counter < 0.99:\n",
    "    counter += 1\n",
    "    if is_bouncy(counter):\n",
    "        bouncy_count += 1\n",
    "\n",
    "print(counter)\n"
   ]
  },
  {
   "cell_type": "code",
   "execution_count": 204,
   "metadata": {
    "collapsed": false
   },
   "outputs": [
    {
     "name": "stdout",
     "output_type": "stream",
     "text": [
      "427337\n"
     ]
    }
   ],
   "source": [
    "\"\"\" Problem 81\n",
    "\"\"\"\n",
    "\n",
    "import urllib.request as urllib2\n",
    "\n",
    "data = urllib2.urlopen('https://projecteuler.net/project/resources/p081_matrix.txt')\n",
    "\n",
    "data = data.read()\n",
    "matrix = [list(map(int,line.decode().split(','))) for line in data.split()]\n",
    "\n",
    "LENGTH = len(matrix[0])\n",
    "\n",
    "distances = [[0 for j in range(LENGTH)] for i in range(LENGTH)]\n",
    "\n",
    "distances[0][0] = matrix[0][0]\n",
    "\n",
    "for i in range(1, LENGTH):\n",
    "    distances[0][i] = distances[0][i - 1] + matrix[0][i]\n",
    "    for j in range(1, i):\n",
    "        distances[j][i - j] = min(distances[j - 1][i - j], distances[j][i - j - 1]) + matrix[j][i - j]\n",
    "    distances[i][0] = distances[i - 1][0] + matrix[i][0]\n",
    "    \n",
    "for i in range(LENGTH, 2 * LENGTH - 1):\n",
    "    for j in range(i - LENGTH + 1, LENGTH):\n",
    "        distances[j][i - j] = min(distances[j - 1][i - j], distances[j][i - j - 1]) + matrix[j][i - j]\n",
    "\n",
    "print(distances[LENGTH - 1][LENGTH - 1])\n"
   ]
  },
  {
   "cell_type": "code",
   "execution_count": 4,
   "metadata": {
    "collapsed": false
   },
   "outputs": [
    {
     "name": "stdout",
     "output_type": "stream",
     "text": [
      "260324\n"
     ]
    }
   ],
   "source": [
    "\"\"\" Problem 82\n",
    "\"\"\"\n",
    "\n",
    "import urllib.request as urllib2\n",
    "\n",
    "data = urllib2.urlopen('https://projecteuler.net/project/resources/p082_matrix.txt')\n",
    "\n",
    "data = data.read()\n",
    "matrix = [list(map(int,line.decode().split(','))) for line in data.split()]\n",
    "\n",
    "LENGTH = len(matrix[0])\n",
    "\n",
    "distances = [[0 for j in range(LENGTH)] for i in range(LENGTH)]\n",
    "\n",
    "for i in range(LENGTH):\n",
    "    distances[i][0] = matrix[i][0]\n",
    "    \n",
    "for j in range(1, LENGTH):\n",
    "    distances[0][j] = min(distances[0][j-1], distances[1][j-1] + matrix[1][j]) + matrix[0][j]\n",
    "    for i in range(1, LENGTH - 1):\n",
    "        distances[i][j] = min(distances[i][j-1], \n",
    "                              distances[i-1][j-1] + matrix[i-1][j],\n",
    "                              distances[i+1][j-1] + matrix[i+1][j]) + matrix[i][j]\n",
    "    distances[LENGTH-1][j] = min(distances[LENGTH-1][j-1], \n",
    "                                 distances[LENGTH-2][j-1] + matrix[LENGTH-2][j]) + matrix[LENGTH-1][j]\n",
    "    for i in range(LENGTH-1):\n",
    "        distances[i+1][j] = min(distances[i+1][j], distances[i][j] + matrix[i+1][j])\n",
    "    for i in reversed(range(LENGTH-1)):\n",
    "        distances[i-1][j] = min(distances[i-1][j], distances[i][j] + matrix[i-1][j])\n",
    "\n",
    "path_sums = [distances[i][LENGTH-1] for i in range(LENGTH)]\n",
    "\n",
    "print(min(path_sums))\n"
   ]
  },
  {
   "cell_type": "code",
   "execution_count": 22,
   "metadata": {
    "collapsed": false
   },
   "outputs": [
    {
     "name": "stdout",
     "output_type": "stream",
     "text": [
      "272\n"
     ]
    }
   ],
   "source": [
    "\"\"\" Problem 65\n",
    "\"\"\"\n",
    "\n",
    "from fractions import Fraction\n",
    "from functools import reduce\n",
    "\n",
    "e_terms = []\n",
    "\n",
    "for i in range(1, 34):\n",
    "    e_terms.append(1)\n",
    "    e_terms.append(2 * i)\n",
    "    e_terms.append(1)\n",
    "\n",
    "LIMIT = len(e_terms)\n",
    "    \n",
    "frac = Fraction(0)\n",
    "for i in reversed(e_terms[:LIMIT]):\n",
    "    frac = Fraction(1, i + frac)\n",
    "print(reduce(lambda x, y: int(x) + int(y), str((2 + frac).numerator)))\n"
   ]
  },
  {
   "cell_type": "code",
   "execution_count": 39,
   "metadata": {
    "collapsed": false
   },
   "outputs": [
    {
     "name": "stdout",
     "output_type": "stream",
     "text": [
      "44\n"
     ]
    }
   ],
   "source": [
    "\"\"\" Problem 102\n",
    "\"\"\"\n",
    "\n",
    "# I dunno why the answer does not fit\n",
    "\n",
    "import urllib.request as urllib2\n",
    "\n",
    "def det(v1, v2):\n",
    "    return v1[0] * v2[1] - v1[1] * v2[0]\n",
    "\n",
    "data = urllib2.urlopen('https://projecteuler.net/project/resources/p102_triangles.txt')\n",
    "\n",
    "data = data.read()\n",
    "triangles = [list(map(int,line.decode().split(','))) for line in data.split()]\n",
    "\n",
    "interior_count = 0\n",
    "\n",
    "for triangle in triangles:\n",
    "    v0 = triangle[:2]\n",
    "    v1 = [triangle[2] - v0[0], triangle[3] - v0[1]]\n",
    "    v2 = [triangle[4] - v0[0], triangle[5] - v0[1]]\n",
    "    v = [-v0[0], -v0[1]]\n",
    "    \n",
    "    a = (det(v, v2) - det(v0, v2)) / det(v1, v2)\n",
    "    b = (det(v0, v1) - det(v, v1)) / det(v1, v2)\n",
    "         \n",
    "    if a > 0 and b > 0 and a + b < 1:\n",
    "        interior_count += 1\n",
    "\n",
    "print(interior_count)\n"
   ]
  },
  {
   "cell_type": "code",
   "execution_count": 55,
   "metadata": {
    "collapsed": false
   },
   "outputs": [
    {
     "name": "stdout",
     "output_type": "stream",
     "text": [
      "2772\n"
     ]
    }
   ],
   "source": [
    "\"\"\" Problem 85\n",
    "\"\"\"\n",
    "\n",
    "def count_rectangles(m, n):\n",
    "    result = 0\n",
    "    for i in range(1, m + 1):\n",
    "        for j in range(1, n + 1):\n",
    "            result += (m - i + 1) * (n - j + 1)\n",
    "    return result\n",
    "\n",
    "diff = 1000\n",
    "area = 2000\n",
    "\n",
    "for i in range(1, 2001):\n",
    "    j = 1\n",
    "    count = count_rectangles(i, j)\n",
    "    if abs(count - 2 * 10 ** 6) < diff:\n",
    "        diff = abs(count - 2 * 10 ** 6)\n",
    "        area = i * j\n",
    "    while count < 2001000:\n",
    "        j += 1\n",
    "        count = count_rectangles(i, j)\n",
    "        if abs(count - 2 * 10 ** 6) < diff:\n",
    "            diff = abs(count - 2 * 10 ** 6)\n",
    "            area = i * j\n",
    "\n",
    "print(area)\n"
   ]
  },
  {
   "cell_type": "code",
   "execution_count": 87,
   "metadata": {
    "collapsed": false
   },
   "outputs": [
    {
     "name": "stdout",
     "output_type": "stream",
     "text": [
      "{333857, 777857, 222857, 666857, 111857, 555857, 857, 888857}\n",
      "{121313, 323333, 525353, 929393, 222323, 424343, 626363, 828383}\n",
      "{40609, 949699, 242629, 444649, 646669, 141619, 343639, 747679}\n",
      "{555109, 111109, 109, 888109, 444109, 777109, 222109, 666109}\n",
      "{333857, 777857, 222857, 666857, 111857, 555857, 857, 888857}\n",
      "{40609, 949699, 242629, 444649, 646669, 141619, 343639, 747679}\n",
      "{333857, 777857, 222857, 666857, 111857, 555857, 857, 888857}\n",
      "{40609, 949699, 242629, 444649, 646669, 141619, 343639, 747679}\n",
      "{121313, 323333, 525353, 929393, 222323, 424343, 626363, 828383}\n",
      "{555109, 111109, 109, 888109, 444109, 777109, 222109, 666109}\n",
      "{121313, 323333, 525353, 929393, 222323, 424343, 626363, 828383}\n",
      "{555109, 111109, 109, 888109, 444109, 777109, 222109, 666109}\n",
      "{121313, 323333, 525353, 929393, 222323, 424343, 626363, 828383}\n",
      "{555109, 111109, 109, 888109, 444109, 777109, 222109, 666109}\n",
      "{333857, 777857, 222857, 666857, 111857, 555857, 857, 888857}\n",
      "{40609, 949699, 242629, 444649, 646669, 141619, 343639, 747679}\n",
      "{555109, 111109, 109, 888109, 444109, 777109, 222109, 666109}\n",
      "{121313, 323333, 525353, 929393, 222323, 424343, 626363, 828383}\n",
      "{555109, 111109, 109, 888109, 444109, 777109, 222109, 666109}\n",
      "{121313, 323333, 525353, 929393, 222323, 424343, 626363, 828383}\n"
     ]
    }
   ],
   "source": [
    "\"\"\" Problem 51\n",
    "\"\"\"\n",
    "\n",
    "# generating primes up to 1M\n",
    "\n",
    "primes = []\n",
    "composites = set()\n",
    "\n",
    "primes.append(2)\n",
    "composites |= set(2 * i for i in range(2, 10 ** 6 // 2 + 1))\n",
    "for j in range(3, 10 ** 6, 2):\n",
    "    if j in composites:\n",
    "        continue\n",
    "    else:\n",
    "        primes.append(j)\n",
    "        composites |= set(j * i for i in range(j, 10 ** 6 // j + 1))\n",
    "\n",
    "primes_set = set(primes)\n",
    "        \n",
    "def get_families(n):\n",
    "    families = []\n",
    "    num = [int(k) for k in str(n)]\n",
    "    digits = set(num)\n",
    "    for i in digits:\n",
    "        family = set()\n",
    "        num = [int(k) for k in str(n)]\n",
    "        indices = [k for k, x in enumerate(num) if x == i]\n",
    "        for j in range(10):\n",
    "            for ind in indices:\n",
    "                num[ind] = j\n",
    "            family.add(int(''.join(str(x) for x in num)))\n",
    "        families.append(family)\n",
    "    return families\n",
    "    \n",
    "for prime in primes:\n",
    "    for family in get_families(prime):\n",
    "        if len(family & primes_set) == 8:\n",
    "            print(family & primes_set)\n",
    "            break\n"
   ]
  },
  {
   "cell_type": "code",
   "execution_count": 62,
   "metadata": {
    "collapsed": false
   },
   "outputs": [
    {
     "name": "stdout",
     "output_type": "stream",
     "text": [
      "1097343\n"
     ]
    }
   ],
   "source": [
    "\"\"\" Problem 87\n",
    "\"\"\"\n",
    "\n",
    "import math\n",
    "import bisect\n",
    "\n",
    "LIMIT = 50 * 10 ** 6\n",
    "MAX_PRIME_4 = int(math.floor(LIMIT ** (1/4)))\n",
    "MAX_PRIME_3 = int(math.floor(LIMIT ** (1/3)))\n",
    "MAX_PRIME_2 = int(math.floor(LIMIT ** (1/2)))\n",
    "\n",
    "# generate up to MAX_PRIME_2 primes\n",
    "\n",
    "primes = []\n",
    "composites = set()\n",
    "\n",
    "primes.append(2)\n",
    "composites |= set(2 * i for i in range(2, MAX_PRIME_2 // 2 + 1))\n",
    "for j in range(3, MAX_PRIME_2, 2):\n",
    "    if j in composites:\n",
    "        continue\n",
    "    else:\n",
    "        primes.append(j)\n",
    "        composites |= set(j * i for i in range(j, MAX_PRIME_2 // j + 1))\n",
    "\n",
    "MAX_IND_3 = bisect.bisect(primes, MAX_PRIME_3)\n",
    "MAX_IND_4 = bisect.bisect(primes, MAX_PRIME_4)\n",
    "\n",
    "power_triples = set()\n",
    "\n",
    "for prime2 in primes:\n",
    "    for ind3 in range(MAX_IND_3):\n",
    "        for ind4 in range(MAX_IND_4):\n",
    "            prime3 = primes[ind3]\n",
    "            prime4 = primes[ind4]\n",
    "            if prime2 ** 2 + prime3 ** 3 + prime4 ** 4 < LIMIT:\n",
    "                power_triples.add(prime2 ** 2 + prime3 ** 3 + prime4 ** 4)\n",
    "\n",
    "print(len(power_triples))\n"
   ]
  },
  {
   "cell_type": "code",
   "execution_count": 92,
   "metadata": {
    "collapsed": false
   },
   "outputs": [
    {
     "name": "stdout",
     "output_type": "stream",
     "text": [
      "1000 303791\n"
     ]
    },
    {
     "ename": "KeyboardInterrupt",
     "evalue": "",
     "output_type": "error",
     "traceback": [
      "\u001b[0;31m---------------------------------------------------------------------------\u001b[0m",
      "\u001b[0;31mKeyboardInterrupt\u001b[0m                         Traceback (most recent call last)",
      "\u001b[0;32m<ipython-input-92-a2b378f09715>\u001b[0m in \u001b[0;36m<module>\u001b[0;34m()\u001b[0m\n\u001b[1;32m     12\u001b[0m         \u001b[0mprint\u001b[0m\u001b[0;34m(\u001b[0m\u001b[0mi\u001b[0m\u001b[0;34m,\u001b[0m \u001b[0mlen\u001b[0m\u001b[0;34m(\u001b[0m\u001b[0mall_fractions\u001b[0m\u001b[0;34m)\u001b[0m\u001b[0;34m)\u001b[0m\u001b[0;34m\u001b[0m\u001b[0m\n\u001b[1;32m     13\u001b[0m     \u001b[0;32mfor\u001b[0m \u001b[0mj\u001b[0m \u001b[0;32min\u001b[0m \u001b[0mrange\u001b[0m\u001b[0;34m(\u001b[0m\u001b[0;36m1\u001b[0m\u001b[0;34m,\u001b[0m \u001b[0mi\u001b[0m\u001b[0;34m)\u001b[0m\u001b[0;34m:\u001b[0m\u001b[0;34m\u001b[0m\u001b[0m\n\u001b[0;32m---> 14\u001b[0;31m         \u001b[0mall_fractions\u001b[0m\u001b[0;34m.\u001b[0m\u001b[0madd\u001b[0m\u001b[0;34m(\u001b[0m\u001b[0mFraction\u001b[0m\u001b[0;34m(\u001b[0m\u001b[0mj\u001b[0m\u001b[0;34m,\u001b[0m \u001b[0mi\u001b[0m\u001b[0;34m)\u001b[0m\u001b[0;34m)\u001b[0m\u001b[0;34m\u001b[0m\u001b[0m\n\u001b[0m\u001b[1;32m     15\u001b[0m \u001b[0;34m\u001b[0m\u001b[0m\n\u001b[1;32m     16\u001b[0m \u001b[0mprint\u001b[0m\u001b[0;34m(\u001b[0m\u001b[0mlen\u001b[0m\u001b[0;34m(\u001b[0m\u001b[0mall_fractions\u001b[0m\u001b[0;34m)\u001b[0m\u001b[0;34m)\u001b[0m\u001b[0;34m\u001b[0m\u001b[0m\n",
      "\u001b[0;32m/Library/Frameworks/Python.framework/Versions/3.4/lib/python3.4/fractions.py\u001b[0m in \u001b[0;36m__hash__\u001b[0;34m(self)\u001b[0m\n\u001b[1;32m    546\u001b[0m         \u001b[0;31m# _PyHASH_MODULUS, or 0 if self._denominator is divisible by\u001b[0m\u001b[0;34m\u001b[0m\u001b[0;34m\u001b[0m\u001b[0m\n\u001b[1;32m    547\u001b[0m         \u001b[0;31m# _PyHASH_MODULUS.\u001b[0m\u001b[0;34m\u001b[0m\u001b[0;34m\u001b[0m\u001b[0m\n\u001b[0;32m--> 548\u001b[0;31m         \u001b[0mdinv\u001b[0m \u001b[0;34m=\u001b[0m \u001b[0mpow\u001b[0m\u001b[0;34m(\u001b[0m\u001b[0mself\u001b[0m\u001b[0;34m.\u001b[0m\u001b[0m_denominator\u001b[0m\u001b[0;34m,\u001b[0m \u001b[0m_PyHASH_MODULUS\u001b[0m \u001b[0;34m-\u001b[0m \u001b[0;36m2\u001b[0m\u001b[0;34m,\u001b[0m \u001b[0m_PyHASH_MODULUS\u001b[0m\u001b[0;34m)\u001b[0m\u001b[0;34m\u001b[0m\u001b[0m\n\u001b[0m\u001b[1;32m    549\u001b[0m         \u001b[0;32mif\u001b[0m \u001b[0;32mnot\u001b[0m \u001b[0mdinv\u001b[0m\u001b[0;34m:\u001b[0m\u001b[0;34m\u001b[0m\u001b[0m\n\u001b[1;32m    550\u001b[0m             \u001b[0mhash_\u001b[0m \u001b[0;34m=\u001b[0m \u001b[0m_PyHASH_INF\u001b[0m\u001b[0;34m\u001b[0m\u001b[0m\n",
      "\u001b[0;31mKeyboardInterrupt\u001b[0m: "
     ]
    }
   ],
   "source": [
    "\"\"\" Problem 72\n",
    "\"\"\"\n",
    "\n",
    "from fractions import Fraction\n",
    "\n",
    "LIMIT = 10 ** 6\n",
    "\n",
    "all_fractions = set()\n",
    "\n",
    "for i in range(1, LIMIT + 1):\n",
    "    if i % 1000 == 0:\n",
    "        print(i, len(all_fractions))\n",
    "    for j in range(1, i):\n",
    "        all_fractions.add(Fraction(j, i))\n",
    "\n",
    "print(len(all_fractions))\n"
   ]
  },
  {
   "cell_type": "code",
   "execution_count": 96,
   "metadata": {
    "collapsed": false
   },
   "outputs": [
    {
     "name": "stdout",
     "output_type": "stream",
     "text": [
      "1000\n",
      "2000\n",
      "3000\n",
      "4000\n",
      "5000\n",
      "6000\n",
      "7000\n",
      "8000\n",
      "9000\n",
      "10000\n",
      "11000\n",
      "12000\n",
      "7295372\n"
     ]
    }
   ],
   "source": [
    "\"\"\" Problem 73\n",
    "\"\"\"\n",
    "\n",
    "from fractions import Fraction\n",
    "import math\n",
    "\n",
    "LOW = Fraction(1, 3)\n",
    "HIGH = Fraction(1, 2)\n",
    "\n",
    "LIMIT = 12000\n",
    "\n",
    "fractions = set()\n",
    "\n",
    "for i in range(2, LIMIT + 1):\n",
    "    if i % 1000 == 0:\n",
    "        print(i)\n",
    "    low = int(math.ceil(i / 3))\n",
    "    high = int(math.floor(i / 2))\n",
    "    for j in range(low, high + 1):\n",
    "        fraction = Fraction(j, i)\n",
    "        if fraction > LOW and fraction < HIGH:\n",
    "            fractions.add(fraction)\n",
    "\n",
    "print(len(fractions))\n"
   ]
  },
  {
   "cell_type": "code",
   "execution_count": 117,
   "metadata": {
    "collapsed": false
   },
   "outputs": [
    {
     "name": "stdout",
     "output_type": "stream",
     "text": [
      "248155780267521\n"
     ]
    }
   ],
   "source": [
    "\"\"\" Problem 119\n",
    "\"\"\"\n",
    "\n",
    "import math\n",
    "\n",
    "def is_interesting(n):\n",
    "    sum_digits = get_digits_sum(n)\n",
    "    if sum_digits < 2:\n",
    "        return False\n",
    "    degree = int(round(math.log(n, sum_digits), 3))\n",
    "    return sum_digits ** degree == n\n",
    "\n",
    "interesting = set()\n",
    "num_digits = 2\n",
    "\n",
    "while len(interesting) < 30:\n",
    "    for i in range(2, 9 * num_digits + 1):\n",
    "        num = i\n",
    "        while num < 10 ** (num_digits + 1):\n",
    "            if is_interesting(num) and num > 10:\n",
    "                interesting.add(num)\n",
    "            num *= i\n",
    "    num_digits += 1\n",
    "\n",
    "print(sorted(list(interesting))[29])\n"
   ]
  },
  {
   "cell_type": "code",
   "execution_count": null,
   "metadata": {
    "collapsed": true
   },
   "outputs": [],
   "source": []
  }
 ],
 "metadata": {
  "kernelspec": {
   "display_name": "Python 3",
   "language": "python",
   "name": "python3"
  },
  "language_info": {
   "codemirror_mode": {
    "name": "ipython",
    "version": 3
   },
   "file_extension": ".py",
   "mimetype": "text/x-python",
   "name": "python",
   "nbconvert_exporter": "python",
   "pygments_lexer": "ipython3",
   "version": "3.4.3"
  }
 },
 "nbformat": 4,
 "nbformat_minor": 0
}
