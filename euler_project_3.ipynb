{
 "metadata": {
  "name": "",
  "signature": "sha256:562b14b3dceb666f5e2cccefb97e5734482ceb8a3516472805f62fd38438402d"
 },
 "nbformat": 3,
 "nbformat_minor": 0,
 "worksheets": [
  {
   "cells": [
    {
     "cell_type": "code",
     "collapsed": false,
     "input": [
      "\"\"\" Problem 41\n",
      "\"\"\"\n",
      "\n",
      "import itertools\n",
      "\n",
      "def is_prime(n):\n",
      "    for i in xrange(2, n):\n",
      "        if n % i == 0:\n",
      "            return False\n",
      "    return True\n",
      "\n",
      "def get_pandigital(n):\n",
      "    result = 0\n",
      "    for i in xrange(len(n)):\n",
      "        result += n[i] * 10 ** (len(n) - i - 1)\n",
      "    return result\n",
      "\n",
      "for m in xrange(9, 4, -1):\n",
      "    for n in itertools.permutations(xrange(m, 0, -1)):\n",
      "        if is_prime(get_pandigital(n)):\n",
      "            print get_pandigital(n)\n",
      "            break\n"
     ],
     "language": "python",
     "metadata": {},
     "outputs": [
      {
       "output_type": "stream",
       "stream": "stdout",
       "text": [
        "7652413\n"
       ]
      }
     ],
     "prompt_number": 1
    },
    {
     "cell_type": "code",
     "collapsed": false,
     "input": [
      "\"\"\" Problem 42\n",
      "\"\"\"\n",
      "\n",
      "import urllib2\n",
      "import math\n",
      "from collections import Counter\n",
      "\n",
      "alphabet_string = '0abcdefghijklmnopqrstuvwxyz'\n",
      "alphabet = {}\n",
      "for letter in alphabet_string:\n",
      "    alphabet[letter] = alphabet_string.index(letter)\n",
      "\n",
      "def get_string_weight(line):\n",
      "    result = 0\n",
      "    for letter in line.lower():\n",
      "        result += alphabet[letter]\n",
      "    return result\n",
      "\n",
      "data = urllib2.urlopen('https://projecteuler.net/project/resources/p042_words.txt')\n",
      "data = data.read() \n",
      "numbers = list(get_string_weight(line.strip('\"')) for line in data.split(\",\"))\n",
      "\n",
      "UPPER_LIMIT = int(math.ceil(math.sqrt(2 * max(numbers))))\n",
      "counter_numbers = Counter(numbers)\n",
      "\n",
      "triangle_words_counter = 0\n",
      "\n",
      "for i in xrange(UPPER_LIMIT):\n",
      "    triangle = i * (i + 1) / 2\n",
      "    triangle_words_counter += counter_numbers[triangle]\n",
      "    \n",
      "print triangle_words_counter\n"
     ],
     "language": "python",
     "metadata": {},
     "outputs": [
      {
       "output_type": "stream",
       "stream": "stdout",
       "text": [
        "162\n"
       ]
      }
     ],
     "prompt_number": 23
    },
    {
     "cell_type": "code",
     "collapsed": false,
     "input": [
      "\"\"\" Problem 43\n",
      "\"\"\"\n",
      "\n",
      "result = 0\n",
      "\n",
      "for n in itertools.permutations(xrange(10)):\n",
      "    if n[0] == 0:\n",
      "        continue\n",
      "    if (n[1] * 100 + n[2] * 10 + n[3]) % 2 != 0:\n",
      "        continue\n",
      "    if (n[2] * 100 + n[3] * 10 + n[4]) % 3 != 0:\n",
      "        continue\n",
      "    if (n[3] * 100 + n[4] * 10 + n[5]) % 5 != 0:\n",
      "        continue\n",
      "    if (n[4] * 100 + n[5] * 10 + n[6]) % 7 != 0:\n",
      "        continue\n",
      "    if (n[5] * 100 + n[6] * 10 + n[7]) % 11 != 0:\n",
      "        continue\n",
      "    if (n[6] * 100 + n[7] * 10 + n[8]) % 13 != 0:\n",
      "        continue\n",
      "    if (n[7] * 100 + n[8] * 10 + n[9]) % 17 != 0:\n",
      "        continue\n",
      "    result += get_pandigital(n)\n",
      "    \n",
      "print result\n"
     ],
     "language": "python",
     "metadata": {},
     "outputs": [
      {
       "output_type": "stream",
       "stream": "stdout",
       "text": [
        "16695334890\n"
       ]
      }
     ],
     "prompt_number": 25
    },
    {
     "cell_type": "code",
     "collapsed": false,
     "input": [
      "\"\"\" Problem 45\n",
      "\"\"\"\n",
      "\n",
      "import math\n",
      "\n",
      "def is_triangle(n):\n",
      "    return (-0.5 + math.sqrt(1 + 8 * n) / 2).is_integer()\n",
      "\n",
      "def is_pentagonal(n):\n",
      "    return ((1.0 + math.sqrt(1 + 24 * n)) / 6).is_integer()\n",
      "\n",
      "def get_hexagonal(n):\n",
      "    return n * (2 * n - 1)\n",
      "\n",
      "solution_not_found = True\n",
      "index = 144\n",
      "number = 0\n",
      "\n",
      "while solution_not_found:\n",
      "    number = get_hexagonal(index)\n",
      "    if is_triangle(number) and is_pentagonal(number):\n",
      "        print number\n",
      "        solution_not_found = False\n",
      "    index += 1\n"
     ],
     "language": "python",
     "metadata": {},
     "outputs": [
      {
       "output_type": "stream",
       "stream": "stdout",
       "text": [
        "1533776805\n"
       ]
      }
     ],
     "prompt_number": 30
    },
    {
     "cell_type": "code",
     "collapsed": false,
     "input": [
      "\"\"\" Problem 46\n",
      "\"\"\"\n",
      "\n",
      "example_found = False\n",
      "index = 0\n",
      "\n",
      "def is_prime(n):\n",
      "    for i in xrange(2, n):\n",
      "        if n % i == 0:\n",
      "            return False\n",
      "    return True\n",
      "\n",
      "while not example_found:\n",
      "    index += 1\n",
      "    number = 2 * index + 1\n",
      "    if is_prime(number):\n",
      "        continue\n",
      "    goldbach = False\n",
      "    for i in xrange(1, int(math.ceil(math.sqrt((number - 1) / 2 + 1)))):\n",
      "        if is_prime(number - 2 * i ** 2):\n",
      "            goldbach = True\n",
      "            break\n",
      "    if not goldbach:\n",
      "        print number\n",
      "        example_found = True\n"
     ],
     "language": "python",
     "metadata": {},
     "outputs": [
      {
       "output_type": "stream",
       "stream": "stdout",
       "text": [
        "5777\n"
       ]
      }
     ],
     "prompt_number": 43
    },
    {
     "cell_type": "code",
     "collapsed": false,
     "input": [
      "\"\"\" Problem 47\n",
      "\"\"\"\n",
      "\n",
      "def count_distinct_prime_factors(n):\n",
      "    factors = set()\n",
      "    while n > 1:\n",
      "        for i in xrange(2, n + 1):\n",
      "            if n % i == 0:\n",
      "                factors.add(i)\n",
      "                n = n / i\n",
      "                break\n",
      "    return len(factors)\n",
      "\n",
      "solution_found = False\n",
      "number = 2\n",
      "\n",
      "while not solution_found:\n",
      "    if count_distinct_prime_factors(number) == 4 and count_distinct_prime_factors(number + 1) == 4 and count_distinct_prime_factors(number + 2) == 4 and count_distinct_prime_factors(number + 3) == 4:\n",
      "        print number\n",
      "        solution_found = True\n",
      "    else:\n",
      "        number += 1\n"
     ],
     "language": "python",
     "metadata": {},
     "outputs": [
      {
       "output_type": "stream",
       "stream": "stdout",
       "text": [
        "134043\n"
       ]
      }
     ],
     "prompt_number": 14
    },
    {
     "cell_type": "code",
     "collapsed": false,
     "input": [
      "\"\"\" Problem 48 \n",
      "\"\"\"\n",
      "\n",
      "result = 0\n",
      "\n",
      "for i in xrange(1, 1001):\n",
      "    result += i ** i\n",
      "    \n",
      "print str(result)[len(str(result)) - 10:]\n"
     ],
     "language": "python",
     "metadata": {},
     "outputs": [
      {
       "output_type": "stream",
       "stream": "stdout",
       "text": [
        "9110846700\n"
       ]
      }
     ],
     "prompt_number": 15
    },
    {
     "cell_type": "code",
     "collapsed": false,
     "input": [
      "\"\"\" Problem 49\n",
      "\"\"\"\n",
      "\n",
      "import itertools\n",
      "\n",
      "primes = set()\n",
      "\n",
      "for i in xrange(1000, 10000):\n",
      "    is_prime = True\n",
      "    for j in xrange(2, i):\n",
      "        if i % j == 0:\n",
      "            is_prime = False\n",
      "            break\n",
      "    if is_prime:\n",
      "        primes.add(i)\n",
      "        \n",
      "def get_permutations(n):\n",
      "    permutations = set()\n",
      "    for i in itertools.permutations(str(n)):\n",
      "        permutations.add(int(i[0]) * 1000 + int(i[1]) * 100 + int(i[2]) * 10 + int(i[3]))\n",
      "    return permutations\n",
      "\n",
      "def is_ariphmetic_sequence(chain):\n",
      "    step = chain[1] - chain[0]\n",
      "    for i in xrange(2, len(chain)):\n",
      "        if chain[i] - chain[i - 1] != step:\n",
      "            return False\n",
      "    return True\n",
      "\n",
      "for i in xrange(1000, 10000):\n",
      "    if i in primes and len(primes & get_permutations(i)) >= 3:\n",
      "        temp = primes & get_permutations(i)\n",
      "        for j in (temp - set([i])):\n",
      "            if ((2 * i - j) in temp):\n",
      "                print i, j, 2 * i - j\n",
      "            elif ((2 * j - i) in temp):\n",
      "                print i, j, 2 * j - i\n"
     ],
     "language": "python",
     "metadata": {},
     "outputs": [
      {
       "output_type": "stream",
       "stream": "stdout",
       "text": [
        "1487 4817 8147\n",
        "2969 6299 9629\n",
        "4817"
       ]
      },
      {
       "output_type": "stream",
       "stream": "stdout",
       "text": [
        " 1487 8147\n",
        "4817 8147 1487\n",
        "6299 2969 9629\n",
        "6299 9629 2969\n",
        "8147"
       ]
      },
      {
       "output_type": "stream",
       "stream": "stdout",
       "text": [
        " 4817 1487\n",
        "9629 6299 2969\n"
       ]
      }
     ],
     "prompt_number": 46
    },
    {
     "cell_type": "code",
     "collapsed": false,
     "input": [
      "\"\"\" Problem 52\n",
      "\"\"\"\n",
      "\n",
      "solution_found = False\n",
      "x = 1\n",
      "\n",
      "def get_digits(n):\n",
      "    digits = []\n",
      "    for i in str(n):\n",
      "        digits.append(int(i))\n",
      "    return sorted(digits)\n",
      "\n",
      "while not solution_found:\n",
      "    if get_digits(x) == get_digits(2 * x) and get_digits(x) == get_digits(3 * x) and get_digits(x) == get_digits(4 * x) and get_digits(x) == get_digits(5 * x) and get_digits(x) == get_digits(6 * x):\n",
      "        print x\n",
      "        solution_found = True\n",
      "    x += 1\n"
     ],
     "language": "python",
     "metadata": {},
     "outputs": [
      {
       "output_type": "stream",
       "stream": "stdout",
       "text": [
        "142857\n"
       ]
      }
     ],
     "prompt_number": 47
    },
    {
     "cell_type": "code",
     "collapsed": false,
     "input": [
      "\"\"\" Problem 53\n",
      "\"\"\"\n",
      "\n",
      "import math\n",
      "\n",
      "def n_choose_k(n, k):\n",
      "    return math.factorial(n) / (math.factorial(k) * math.factorial(n - k))\n",
      "\n",
      "counter = 0\n",
      "\n",
      "for n in xrange(23, 101):\n",
      "    for k in xrange(n):\n",
      "        if n_choose_k(n, k) > 1000000:\n",
      "            counter += 1\n",
      "\n",
      "print counter\n"
     ],
     "language": "python",
     "metadata": {},
     "outputs": [
      {
       "output_type": "stream",
       "stream": "stdout",
       "text": [
        "4075\n"
       ]
      }
     ],
     "prompt_number": 50
    },
    {
     "cell_type": "code",
     "collapsed": false,
     "input": [
      "\"\"\" Problem 55\n",
      "\"\"\"\n",
      "\n",
      "def reverse_number(n):\n",
      "    reverse = 0\n",
      "    for i in xrange(len(str(n))):\n",
      "        reverse += int(str(n)[i]) * 10 ** i\n",
      "    return reverse\n",
      "\n",
      "def is_palindrome(n):\n",
      "    line = str(n)\n",
      "    for i in xrange(len(line) / 2):\n",
      "        if line[i] != line[len(line) - i - 1]:\n",
      "            return False\n",
      "    return True\n",
      "\n",
      "def is_lychrel(n):\n",
      "    for i in xrange(50):\n",
      "        n = n + reverse_number(n)\n",
      "        if is_palindrome(n):\n",
      "            return False\n",
      "    return True\n",
      "\n",
      "counter = 0\n",
      "\n",
      "for i in xrange(1, 10000):\n",
      "    if is_lychrel(i):\n",
      "        counter += 1\n",
      "\n",
      "print counter\n"
     ],
     "language": "python",
     "metadata": {},
     "outputs": [
      {
       "output_type": "stream",
       "stream": "stdout",
       "text": [
        "249\n"
       ]
      }
     ],
     "prompt_number": 79
    },
    {
     "cell_type": "code",
     "collapsed": false,
     "input": [
      "\"\"\" Problem 56\n",
      "\"\"\"\n",
      "\n",
      "def get_digit_sum(n):\n",
      "    return reduce(lambda x, y: x + y, map(int, str(n)), 0)\n",
      "\n",
      "max_digits = 0\n",
      "\n",
      "for a in xrange(100):\n",
      "    for b in xrange(100):\n",
      "        max_digits = max(max_digits, get_digit_sum(a ** b))\n",
      "\n",
      "print max_digits\n"
     ],
     "language": "python",
     "metadata": {},
     "outputs": [
      {
       "output_type": "stream",
       "stream": "stdout",
       "text": [
        "972\n"
       ]
      }
     ],
     "prompt_number": 80
    },
    {
     "cell_type": "code",
     "collapsed": false,
     "input": [
      "\"\"\" Problem 57\n",
      "\"\"\"\n",
      "\n",
      "from fractions import Fraction\n",
      "\n",
      "sqrt2 = Fraction(1, 2)\n",
      "counter = 0\n",
      "\n",
      "for i in xrange(2, 1001):\n",
      "    sqrt2 = Fraction(1, (2 + sqrt2))\n",
      "    if len(str(sqrt2.numerator + sqrt2.denominator)) > len(str(sqrt2.denominator)):\n",
      "        counter += 1\n",
      "\n",
      "print counter"
     ],
     "language": "python",
     "metadata": {},
     "outputs": [
      {
       "output_type": "stream",
       "stream": "stdout",
       "text": [
        "153\n"
       ]
      }
     ],
     "prompt_number": 90
    },
    {
     "cell_type": "code",
     "collapsed": false,
     "input": [
      "\"\"\" Problem 58\n",
      "\"\"\"\n",
      "\n",
      "import math\n",
      "\n",
      "def is_prime(n):\n",
      "    for i in xrange(2, int(math.floor(math.sqrt(n))) + 1):\n",
      "        if n % i == 0:\n",
      "            return False\n",
      "    return True\n",
      "\n",
      "diagonales = set()\n",
      "prime_diagonales = set()\n",
      "diagonales.add(1)\n",
      "\n",
      "diff = 2\n",
      "counter = 1\n",
      "\n",
      "while len(prime_diagonales) == 0 or len(prime_diagonales) * 1.0 / len(diagonales) >= 0.1:\n",
      "    for i in xrange(4):\n",
      "        counter += diff\n",
      "        if is_prime(counter):\n",
      "            prime_diagonales.add(counter)\n",
      "        diagonales.add(counter)\n",
      "    diff += 2\n",
      "\n",
      "print diff - 1\n"
     ],
     "language": "python",
     "metadata": {},
     "outputs": [
      {
       "output_type": "stream",
       "stream": "stdout",
       "text": [
        "26241\n"
       ]
      }
     ],
     "prompt_number": 12
    },
    {
     "cell_type": "code",
     "collapsed": false,
     "input": [
      "\"\"\" Problem 59\n",
      "\"\"\"\n",
      "\n",
      "import urllib2\n",
      "import itertools\n",
      "\n",
      "alphabet = 'abcdefghijklmnopqrstuvwxyz'\n",
      "\n",
      "data = urllib2.urlopen('https://projecteuler.net/project/resources/p059_cipher.txt')\n",
      "data = data.read() \n",
      "text = list(int(num.strip('\\'')) for num in data.split(\",\"))\n",
      "\n",
      "LEN_TEXT = len(text)\n",
      "\n",
      "for key in itertools.product(alphabet, repeat=3):\n",
      "    key = ''.join(letter for letter in key)\n",
      "    long_key = (key * (LEN_TEXT / len(key) + 1))[:LEN_TEXT]\n",
      "    output = ''.join(chr(ord(long_key[i]) ^ text[i]) for i in xrange(LEN_TEXT))\n",
      "\n",
      "key = 'god'\n",
      "long_key = (key * (LEN_TEXT / len(key) + 1))[:LEN_TEXT]\n",
      "output = ''.join(chr(ord(long_key[i]) ^ text[i]) for i in xrange(LEN_TEXT))\n",
      "\n",
      "print output\n",
      "\n",
      "result = 0\n",
      "\n",
      "for letter in output:\n",
      "    result += ord(letter)\n",
      "    \n",
      "print result\n"
     ],
     "language": "python",
     "metadata": {},
     "outputs": [
      {
       "output_type": "stream",
       "stream": "stdout",
       "text": [
        "(The Gospel of John, chapter 1) 1 In the beginning the Word already existed. He was with God, and he was God. 2 He was in the beginning with God. 3 He created everything there is. Nothing exists that he didn't make. 4 Life itself was in him, and this life gives light to everyone. 5 The light shines through the darkness, and the darkness can never extinguish it. 6 God sent John the Baptist 7 to tell everyone about the light so that everyone might believe because of his testimony. 8 John himself was not the light; he was only a witness to the light. 9 The one who is the true light, who gives light to everyone, was going to come into the world. 10 But although the world was made through him, the world didn't recognize him when he came. 11 Even in his own land and among his own people, he was not accepted. 12 But to all who believed him and accepted him, he gave the right to become children of God. 13 They are reborn! This is not a physical birth resulting from human passion or plan, this rebirth comes from God.14 So the Word became human and lived here on earth among us. He was full of unfailing love and faithfulness. And we have seen his glory, the glory of the only Son of the Father.\n",
        "107359\n"
       ]
      }
     ],
     "prompt_number": 1
    },
    {
     "cell_type": "code",
     "collapsed": false,
     "input": [],
     "language": "python",
     "metadata": {},
     "outputs": []
    }
   ],
   "metadata": {}
  }
 ]
}