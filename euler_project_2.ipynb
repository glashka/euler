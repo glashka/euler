{
 "metadata": {
  "name": "",
  "signature": "sha256:99ea5a6635e33386138d905b60dd438c5cd55e360429be3eefd6bd7c678bb3bf"
 },
 "nbformat": 3,
 "nbformat_minor": 0,
 "worksheets": [
  {
   "cells": [
    {
     "cell_type": "code",
     "collapsed": false,
     "input": [
      "\"\"\" Problem 22 \n",
      "\"\"\"\n",
      "\n",
      "import urllib2\n",
      "\n",
      "alphabet_string = '0abcdefghijklmnopqrstuvwxyz'\n",
      "alphabet = {}\n",
      "for letter in alphabet_string:\n",
      "    alphabet[letter] = alphabet_string.index(letter)\n",
      "\n",
      "def get_string_weight(line):\n",
      "    result = 0\n",
      "    for letter in line.lower():\n",
      "        result += alphabet[letter]\n",
      "    return result\n",
      "\n",
      "\n",
      "data = urllib2.urlopen('https://projecteuler.net/project/resources/p022_names.txt')\n",
      "data = data.read() \n",
      "names = [line.strip('\"') for line in data.split(\",\")]\n",
      "names.sort()\n",
      "\n",
      "result = 0\n",
      "\n",
      "for i in xrange(len(names)):\n",
      "    result += (i + 1) * get_string_weight(names[i])\n",
      "\n",
      "print result\n"
     ],
     "language": "python",
     "metadata": {},
     "outputs": [
      {
       "output_type": "stream",
       "stream": "stdout",
       "text": [
        "871198282\n"
       ]
      }
     ],
     "prompt_number": 20
    },
    {
     "cell_type": "code",
     "collapsed": false,
     "input": [
      "\"\"\" Problem 23\n",
      "\"\"\"\n",
      "\n",
      "UPPER_LIMIT = 28123\n",
      "\n",
      "def add_factor(number, factors):\n",
      "    if number < 2:\n",
      "        return\n",
      "    for i in xrange(2, number+1):\n",
      "        if number % i == 0:\n",
      "            factors.append(i)\n",
      "            add_factor(number / i, factors)\n",
      "            break\n",
      "\n",
      "def get_proper_divisors(number):\n",
      "    divisors = set()\n",
      "    prime_factors = []\n",
      "    add_factor(number, prime_factors)\n",
      "    primes_qty = len(prime_factors)\n",
      "    for i in xrange(2 ** primes_qty - 1):\n",
      "        binary = str(bin(i)[2:].zfill(primes_qty))\n",
      "        divisor = 1\n",
      "        for j in xrange(primes_qty):\n",
      "            divisor *= prime_factors[j] ** int(binary[j])\n",
      "        divisors.add(divisor)\n",
      "    return divisors\n",
      "\n",
      "def get_sum_proper_divisors(number):\n",
      "    return sum(get_proper_divisors(number))\n",
      "\n",
      "def is_abundant(number):\n",
      "    if get_sum_proper_divisors(number) > number:\n",
      "        return True\n",
      "    else:\n",
      "        return False\n",
      "\n",
      "abundant = set()\n",
      "for i in xrange(1, UPPER_LIMIT):\n",
      "    if is_abundant(i):\n",
      "        abundant.add(i)\n",
      "\n",
      "nonsum = set()\n",
      "for i in xrange(1, UPPER_LIMIT):\n",
      "    nonsum.add(i)\n",
      "        \n",
      "for i in xrange(1, UPPER_LIMIT):\n",
      "    for j in xrange(1, i / 2 + 1):\n",
      "        if j in abundant and (i - j) in abundant:\n",
      "            nonsum.remove(i)\n",
      "            break\n",
      "\n",
      "print sum(nonsum)\n"
     ],
     "language": "python",
     "metadata": {},
     "outputs": [
      {
       "output_type": "stream",
       "stream": "stdout",
       "text": [
        "4179871\n"
       ]
      }
     ],
     "prompt_number": 21
    },
    {
     "cell_type": "code",
     "collapsed": false,
     "input": [
      "\"\"\" Problem 24\n",
      "\"\"\"\n",
      "\n",
      "from math import factorial as f\n",
      "\n",
      "print 1000000 - 2 * f(9) - 6 * f(8) - 6 * f(7) - 2 * f(6) - 5 * f(5) - 1 * f(4) - 2 * f(3) - 2 * f(2)\n"
     ],
     "language": "python",
     "metadata": {},
     "outputs": [
      {
       "output_type": "stream",
       "stream": "stdout",
       "text": [
        "0\n"
       ]
      }
     ],
     "prompt_number": 36
    },
    {
     "cell_type": "code",
     "collapsed": false,
     "input": [
      "\"\"\" Problem 25\n",
      "\"\"\"\n",
      "f1 = 1\n",
      "f2 = 1\n",
      "f3 = f1 + f2\n",
      "i = 3\n",
      "\n",
      "while len(str(f3)) < 1000:\n",
      "    f1 = f2\n",
      "    f2 = f3\n",
      "    f3 = f1 + f2\n",
      "    i += 1\n",
      "    \n",
      "print i\n"
     ],
     "language": "python",
     "metadata": {},
     "outputs": [
      {
       "output_type": "stream",
       "stream": "stdout",
       "text": [
        "4782\n"
       ]
      }
     ],
     "prompt_number": 38
    },
    {
     "cell_type": "code",
     "collapsed": false,
     "input": [
      "\"\"\" Problem 27\n",
      "\"\"\"\n",
      "\n",
      "def get_quadratic(a, b, n):\n",
      "    return n ** 2 + a * n + b\n",
      "\n",
      "all_primes = set()\n",
      "\n",
      "def is_prime(number):\n",
      "    if number in all_primes:\n",
      "        return True\n",
      "    elif number < 2:\n",
      "        return False\n",
      "    else:\n",
      "        for i in xrange(2, number):\n",
      "            if number % i == 0:\n",
      "                return False\n",
      "        all_primes.add(number)\n",
      "        return True\n",
      "\n",
      "def count_primes(a, b):\n",
      "    quadratic = b\n",
      "    counter = 0\n",
      "    while is_prime(quadratic) and counter < 100:\n",
      "        counter += 1\n",
      "        quadratic = get_quadratic(a, b, counter)\n",
      "    return counter\n",
      "\n",
      "conseq = 0\n",
      "product_ab = 0\n",
      "\n",
      "for a in xrange(-999, 1000):\n",
      "    for b in xrange(-999, 1000):\n",
      "        if count_primes(a, b) > conseq:\n",
      "            conseq = count_primes(a, b)\n",
      "            product_ab = a * b\n",
      "\n",
      "print product_ab\n"
     ],
     "language": "python",
     "metadata": {},
     "outputs": [
      {
       "output_type": "stream",
       "stream": "stdout",
       "text": [
        "-59231\n"
       ]
      }
     ],
     "prompt_number": 1
    },
    {
     "cell_type": "code",
     "collapsed": false,
     "input": [
      "\"\"\" Problem 28\n",
      "\"\"\"\n",
      "\n",
      "SIZE = 1001\n",
      "CENTER = SIZE / 2\n",
      "\n",
      "def print_square(square):\n",
      "    for row in square:\n",
      "        line = ''\n",
      "        for item in row:\n",
      "            line += str(item)\n",
      "            line += '\\t'\n",
      "        print line\n",
      "\n",
      "# initializing a square\n",
      "square = []\n",
      "for i in xrange(SIZE):\n",
      "    row = []\n",
      "    for j in xrange(SIZE):\n",
      "        row.append(0)\n",
      "    square.append(row)\n",
      "\n",
      "# setting the square by spiral\n",
      "square[CENTER][CENTER] = 1\n",
      "index_x = CENTER\n",
      "index_y = CENTER\n",
      "counter = 2\n",
      "turn = 1\n",
      "switcher = False\n",
      "\n",
      "#1 - 1 - 2 - 2 - 3 - 3 - 4 - 4 - 5 - ...\n",
      "\n",
      "while counter < SIZE ** 2:\n",
      "    if turn % 2 == 1:\n",
      "        if switcher == False:\n",
      "            for i in xrange(1, turn):\n",
      "                index_x += 1\n",
      "                square[index_x][index_y] = counter\n",
      "                counter += 1\n",
      "            switcher = True\n",
      "        else:\n",
      "            for i in xrange(1, turn):\n",
      "                index_y -= 1\n",
      "                square[index_x][index_y] = counter\n",
      "                counter += 1\n",
      "            switcher = False\n",
      "            turn += 1\n",
      "    else:\n",
      "        if switcher == False:\n",
      "            for i in xrange(1, turn):\n",
      "                if counter <= SIZE ** 2:\n",
      "                    index_x -= 1\n",
      "                    square[index_x][index_y] = counter\n",
      "                    counter += 1\n",
      "            switcher = True\n",
      "        else:\n",
      "            for i in xrange(1, turn):\n",
      "                index_y += 1\n",
      "                square[index_x][index_y] = counter\n",
      "                counter += 1\n",
      "            switcher = False\n",
      "            turn += 1           \n",
      "\n",
      "def sum_diagonales(square):\n",
      "    result = 0\n",
      "    for i in xrange(len(square)):\n",
      "        result += square[i][i]\n",
      "        result += square[i][len(square) - 1 - i]\n",
      "    return result - 1\n",
      "\n",
      "print sum_diagonales(square)\n"
     ],
     "language": "python",
     "metadata": {},
     "outputs": [
      {
       "output_type": "stream",
       "stream": "stdout",
       "text": [
        "669171001\n"
       ]
      }
     ],
     "prompt_number": 39
    },
    {
     "cell_type": "code",
     "collapsed": false,
     "input": [
      "\"\"\" Problem 29 \n",
      "\"\"\"\n",
      "\n",
      "numbers = set()\n",
      "\n",
      "for a in xrange(2, 101):\n",
      "    for b in xrange(2, 101):\n",
      "        numbers.add(a ** b)\n",
      "\n",
      "print len(numbers)\n"
     ],
     "language": "python",
     "metadata": {},
     "outputs": [
      {
       "output_type": "stream",
       "stream": "stdout",
       "text": [
        "9183\n"
       ]
      }
     ],
     "prompt_number": 40
    },
    {
     "cell_type": "code",
     "collapsed": false,
     "input": [
      "\"\"\" Problem 30\n",
      "\"\"\"\n",
      "\n",
      "from itertools import product\n",
      "\n",
      "sum5numbers = set()\n",
      "\n",
      "for digits in product('0123456789', repeat=6):\n",
      "    number = 0\n",
      "    sum_powers = 0\n",
      "    for i in xrange(6):\n",
      "        number += int(digits[i]) * 10 ** i\n",
      "        sum_powers += int(digits[i]) ** 5\n",
      "    if number == sum_powers:\n",
      "        sum5numbers.add(number)\n",
      "\n",
      "# excluding 1 as it is not true sum of powers\n",
      "print sum(sum5numbers) - 1\n"
     ],
     "language": "python",
     "metadata": {},
     "outputs": [
      {
       "output_type": "stream",
       "stream": "stdout",
       "text": [
        "443839\n"
       ]
      }
     ],
     "prompt_number": 61
    },
    {
     "cell_type": "code",
     "collapsed": false,
     "input": [
      "\"\"\" Problem 31\n",
      "\"\"\"\n",
      "\n",
      "proper_ways = set()\n",
      "\n",
      "print proper_ways\n"
     ],
     "language": "python",
     "metadata": {},
     "outputs": [
      {
       "output_type": "stream",
       "stream": "stdout",
       "text": [
        "set([])\n"
       ]
      }
     ],
     "prompt_number": 73
    },
    {
     "cell_type": "code",
     "collapsed": false,
     "input": [
      "\"\"\" Problem 33\n",
      "\"\"\"\n",
      "\n",
      "import math\n",
      "from fractions import Fraction as F\n",
      "\n",
      "reductable_fractions = set()\n",
      "\n",
      "for i in xrange(10, 99):\n",
      "    for j in xrange(i + 1, 99):\n",
      "        for k in str(i):\n",
      "            if k in str(j):\n",
      "                reductable_fractions.add((i, j))\n",
      "\n",
      "def fake_reduct_1(fraction):\n",
      "    for i in xrange(2):\n",
      "        if fraction[1] % 10 == int(str(fraction[0])[i]) and int(str(fraction[1])[0]) != 0:\n",
      "            return (int(str(fraction[0])[1 - i]), int(str(fraction[1])[0]))\n",
      "\n",
      "def fake_reduct_2(fraction):\n",
      "    for i in xrange(2):\n",
      "        if math.floor(fraction[1] / 10) == int(str(fraction[0])[i]) and int(str(fraction[1])[1]) != 0:\n",
      "            return (int(str(fraction[0])[1 - i]), int(str(fraction[1])[1]))\n",
      "\n",
      "def is_reductible(fraction):\n",
      "    if fake_reduct_1(fraction) is not None and float(fraction[0]) / fraction[1] == float(fake_reduct_1(fraction)[0]) / fake_reduct_1(fraction)[1]:\n",
      "        return True\n",
      "    elif fake_reduct_2(fraction) is not None and float(fraction[0]) / fraction[1] == float(fake_reduct_2(fraction)[0]) / fake_reduct_2(fraction)[1]:\n",
      "        return True\n",
      "    else:\n",
      "        return False\n",
      "\n",
      "result_fractions = set()    \n",
      "\n",
      "for fraction in reductable_fractions:\n",
      "    if is_reductible(fraction) and fraction[0] % 10 != 0:\n",
      "        result_fractions.add(F(fraction[0], fraction[1]))\n",
      "\n",
      "res = F(\"1\")\n",
      "for fr in result_fractions:\n",
      "    res *= fr\n",
      "\n",
      "print res\n"
     ],
     "language": "python",
     "metadata": {},
     "outputs": [
      {
       "output_type": "stream",
       "stream": "stdout",
       "text": [
        "1/100\n"
       ]
      }
     ],
     "prompt_number": 9
    },
    {
     "cell_type": "code",
     "collapsed": false,
     "input": [
      "\"\"\" Problem 34\n",
      "\"\"\"\n",
      "\n",
      "# defining upper limit for exhaustive search\n",
      "\n",
      "n = 1\n",
      "diff = 0\n",
      "while diff >= 0:\n",
      "    left = 10 ** (n + 1)\n",
      "    right = math.factorial(9) * n\n",
      "    diff = right - left\n",
      "    n += 1\n",
      "\n",
      "LIMIT = n - 2\n",
      "\n",
      "def get_sum_digits_factorial(n):\n",
      "    result = 0\n",
      "    for i in str(n):\n",
      "        result += math.factorial(int(i))\n",
      "    return result\n",
      "\n",
      "curious_numbers = set()\n",
      "\n",
      "for i in xrange(1, 10 ** LIMIT):\n",
      "    if i == get_sum_digits_factorial(i):\n",
      "        curious_numbers.add(i)\n",
      "\n",
      "curious_numbers.remove(1)\n",
      "curious_numbers.remove(2)\n",
      "\n",
      "print sum(curious_numbers)\n"
     ],
     "language": "python",
     "metadata": {},
     "outputs": [
      {
       "output_type": "stream",
       "stream": "stdout",
       "text": [
        "40730\n"
       ]
      }
     ],
     "prompt_number": 18
    },
    {
     "cell_type": "code",
     "collapsed": false,
     "input": [
      "\"\"\" Problem 35\n",
      "\"\"\"\n",
      "\n",
      "import math\n",
      "\n",
      "# get all primes under 1000000\n",
      "\n",
      "primes = set()\n",
      "\n",
      "def is_prime_iterative(number, primes):\n",
      "    for i in primes:\n",
      "        if number % i == 0:\n",
      "            return False\n",
      "    return True\n",
      "\n",
      "for i in xrange(2, 1000000):\n",
      "    if is_prime_iterative(i, primes):\n",
      "        primes.add(i)\n",
      "\n",
      "print 'I\\'m done with primes calculation!'\n",
      "        \n",
      "def get_rotations(number):\n",
      "    rotations = set()\n",
      "    for i in xrange(len(str(number))):\n",
      "        rotations.add(int((number % 10 ** i) * 10 ** (len(str(number)) - i) + math.floor(number / 10 ** i)))\n",
      "    return rotations\n",
      "\n",
      "prime_rotations = set()\n",
      "\n",
      "for i in xrange(2, 1000000):\n",
      "    is_prime = True\n",
      "    for rotation in get_rotations(i):\n",
      "        if rotation not in primes:\n",
      "            is_prime = False\n",
      "    if is_prime:\n",
      "        prime_rotations = prime_rotations | get_rotations(i)\n",
      "\n",
      "print len(prime_rotations)\n"
     ],
     "language": "python",
     "metadata": {},
     "outputs": [
      {
       "output_type": "stream",
       "stream": "stdout",
       "text": [
        "I'm done with primes calculation!\n",
        "55"
       ]
      },
      {
       "output_type": "stream",
       "stream": "stdout",
       "text": [
        "\n"
       ]
      }
     ],
     "prompt_number": 7
    },
    {
     "cell_type": "code",
     "collapsed": false,
     "input": [
      "\"\"\" Problem 36\n",
      "\"\"\"\n",
      "\n",
      "def is_palindrome(n):\n",
      "    for i in xrange(len(str(n)) / 2):\n",
      "        if str(n)[i] != str(n)[len(str(n)) - 1 - i]:\n",
      "            return False\n",
      "    return True\n",
      "\n",
      "result = 0\n",
      "\n",
      "for i in xrange(1, 1000000):\n",
      "    if is_palindrome(i) and is_palindrome(int(bin(i)[2:])):\n",
      "        result += i\n",
      "        \n",
      "print result \n"
     ],
     "language": "python",
     "metadata": {},
     "outputs": [
      {
       "output_type": "stream",
       "stream": "stdout",
       "text": [
        "872187\n"
       ]
      }
     ],
     "prompt_number": 10
    },
    {
     "cell_type": "code",
     "collapsed": false,
     "input": [
      "\"\"\" Problem 37\n",
      "\"\"\"\n",
      "\n",
      "truncatable = set()\n",
      "\n",
      "def get_all_truncates(n):\n",
      "    truncates = set()\n",
      "    truncates.add(n)\n",
      "    for i in xrange(1, len(str(n))):\n",
      "        truncates.add(int(str(n)[:i]))\n",
      "        truncates.add(int(str(n)[i:]))\n",
      "    return truncates\n",
      "\n",
      "number = 10\n",
      "\n",
      "# I'm gonna use a hint that there are exactly 11 truncatable numbers! \n",
      "while len(truncatable) < 11:\n",
      "    trunc = True\n",
      "    for num in get_all_truncates(number):\n",
      "        if num not in primes:\n",
      "            trunc = False\n",
      "            break\n",
      "    if trunc:\n",
      "        truncatable.add(number)\n",
      "    number += 1\n",
      "\n",
      "print sum(truncatable)\n"
     ],
     "language": "python",
     "metadata": {},
     "outputs": [
      {
       "output_type": "stream",
       "stream": "stdout",
       "text": [
        "748317\n"
       ]
      }
     ],
     "prompt_number": 15
    },
    {
     "cell_type": "code",
     "collapsed": false,
     "input": [
      "\"\"\" Problem 38\n",
      "\"\"\"\n",
      "\n",
      "def contains_pandigits(line):\n",
      "    return ''.join(sorted(line)) == '123456789'\n",
      "\n",
      "pandigital = set()    \n",
      "\n",
      "def get_pandigital(number):\n",
      "    pandigitals = set()\n",
      "    candidate = str(number)\n",
      "    for i in xrange(2, 10):\n",
      "        candidate += str(number * i)\n",
      "        if int(candidate) > 10 ** 10:\n",
      "            break\n",
      "        if contains_pandigits(candidate):\n",
      "            return int(candidate)\n",
      "\n",
      "for i in xrange(1, 10 ** 4):\n",
      "    pandigital.add(get_pandigital(i))\n",
      "\n",
      "print max(pandigital)\n"
     ],
     "language": "python",
     "metadata": {},
     "outputs": [
      {
       "output_type": "stream",
       "stream": "stdout",
       "text": [
        "932718654\n"
       ]
      }
     ],
     "prompt_number": 29
    },
    {
     "cell_type": "code",
     "collapsed": false,
     "input": [
      "\"\"\" Problem 39\n",
      "\"\"\"\n",
      "\n",
      "max_solutions = 0\n",
      "max_perimeter = 0\n",
      "\n",
      "def get_solutions_number(p):\n",
      "    counter = 0\n",
      "    for a in xrange(1, p / 2 + 1):\n",
      "        for b in xrange(1, a + 1):\n",
      "            c = p - a - b\n",
      "            if a ** 2 + b ** 2 == c ** 2:\n",
      "                counter += 1\n",
      "    return counter\n",
      "\n",
      "for p in xrange(3, 1001):\n",
      "    if get_solutions_number(p) > max_solutions:\n",
      "        max_solutions = get_solutions_number(p)\n",
      "        max_perimeter = p\n",
      "\n",
      "print max_perimeter\n"
     ],
     "language": "python",
     "metadata": {},
     "outputs": [
      {
       "output_type": "stream",
       "stream": "stdout",
       "text": [
        "840\n"
       ]
      }
     ],
     "prompt_number": 34
    },
    {
     "cell_type": "code",
     "collapsed": false,
     "input": [
      "\"\"\" Problem 40\n",
      "\"\"\"\n",
      "\n",
      "result = 1\n",
      "length = 0\n",
      "index = 1\n",
      "degree = 0\n",
      "\n",
      "while degree <= 6:\n",
      "    if length < 10 ** degree and (length + len(str(index))) >= 10 ** degree:\n",
      "        result *= int(str(index)[10 ** degree - length - 1])\n",
      "        degree += 1\n",
      "    length += len(str(index))\n",
      "    index += 1\n",
      "\n",
      "print result\n"
     ],
     "language": "python",
     "metadata": {},
     "outputs": [
      {
       "output_type": "stream",
       "stream": "stdout",
       "text": [
        "210\n"
       ]
      }
     ],
     "prompt_number": 2
    },
    {
     "cell_type": "code",
     "collapsed": false,
     "input": [],
     "language": "python",
     "metadata": {},
     "outputs": [
      {
       "output_type": "stream",
       "stream": "stdout",
       "text": [
        "0\n"
       ]
      }
     ],
     "prompt_number": 11
    },
    {
     "cell_type": "code",
     "collapsed": false,
     "input": [],
     "language": "python",
     "metadata": {},
     "outputs": []
    }
   ],
   "metadata": {}
  }
 ]
}